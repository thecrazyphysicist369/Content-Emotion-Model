{
  "nbformat": 4,
  "nbformat_minor": 0,
  "metadata": {
    "colab": {
      "name": "Text Preprocessing.ipynb",
      "provenance": [],
      "authorship_tag": "ABX9TyOHWYWmNA/P5d4VIR/lhEIX",
      "include_colab_link": true
    },
    "kernelspec": {
      "name": "python3",
      "display_name": "Python 3"
    }
  },
  "cells": [
    {
      "cell_type": "markdown",
      "metadata": {
        "id": "view-in-github",
        "colab_type": "text"
      },
      "source": [
        "<a href=\"https://colab.research.google.com/github/thecrazyphysicist369/Content-Emotion-Model/blob/main/code/Text_Preprocessing.ipynb\" target=\"_parent\"><img src=\"https://colab.research.google.com/assets/colab-badge.svg\" alt=\"Open In Colab\"/></a>"
      ]
    },
    {
      "cell_type": "markdown",
      "metadata": {
        "id": "D-qwLRdKl485"
      },
      "source": [
        "#Hypertexts Normalizing"
      ]
    },
    {
      "cell_type": "markdown",
      "metadata": {
        "id": "XJi3kP_Pl9HF"
      },
      "source": [
        "###Spelling corrections"
      ]
    },
    {
      "cell_type": "code",
      "metadata": {
        "id": "8IyhIrMpiTyl"
      },
      "source": [
        "misspell_data = pd.read_csv(\"/aspell.txt\",sep=\":\",names=[\"correction\",\"misspell\"])\r\n",
        "misspell_data.misspell = misspell_data.misspell.str.strip()\r\n",
        "misspell_data.misspell = misspell_data.misspell.str.split(\" \")\r\n",
        "misspell_data = misspell_data.explode(\"misspell\").reset_index(drop=True)\r\n",
        "misspell_data.drop_duplicates(\"misspell\",inplace=True)\r\n",
        "miss_corr = dict(zip(misspell_data.misspell, misspell_data.correction))\r\n",
        "\r\n",
        "#Sample of the dict\r\n",
        "{v:miss_corr[v] for v in [list(miss_corr.keys())[k] for k in range(20)]}"
      ],
      "execution_count": null,
      "outputs": []
    },
    {
      "cell_type": "code",
      "metadata": {
        "id": "KKj2yYPYmGYU"
      },
      "source": [
        "def misspelled_correction(val):\r\n",
        "    for x in val.split(): \r\n",
        "        if x in miss_corr.keys(): \r\n",
        "            val = val.replace(x, miss_corr[x]) \r\n",
        "    return val\r\n",
        "\r\n",
        "data[\"clean_content\"] = data.content.apply(lambda x : misspelled_correction(x))"
      ],
      "execution_count": null,
      "outputs": []
    },
    {
      "cell_type": "markdown",
      "metadata": {
        "id": "6qsWXm54mMeF"
      },
      "source": [
        ""
      ]
    },
    {
      "cell_type": "code",
      "metadata": {
        "id": "4S0spPqNmM17"
      },
      "source": [
        ""
      ],
      "execution_count": null,
      "outputs": []
    }
  ]
}