{
  "nbformat": 4,
  "nbformat_minor": 0,
  "metadata": {
    "colab": {
      "name": "Emotional Model.ipynb",
      "provenance": [],
      "authorship_tag": "ABX9TyPJrz5AArAdbuqxXIM8FzQs",
      "include_colab_link": true
    },
    "kernelspec": {
      "name": "python3",
      "display_name": "Python 3"
    }
  },
  "cells": [
    {
      "cell_type": "markdown",
      "metadata": {
        "id": "view-in-github",
        "colab_type": "text"
      },
      "source": [
        "<a href=\"https://colab.research.google.com/github/thecrazyphysicist369/Content-Emotion-Model/blob/main/code/Emotional_Model.ipynb\" target=\"_parent\"><img src=\"https://colab.research.google.com/assets/colab-badge.svg\" alt=\"Open In Colab\"/></a>"
      ]
    },
    {
      "cell_type": "code",
      "metadata": {
        "id": "bgUqJVFmzyj_"
      },
      "source": [
        "import numpy as np\n",
        "import random"
      ],
      "execution_count": null,
      "outputs": []
    },
    {
      "cell_type": "code",
      "metadata": {
        "id": "QrExwkbJty99"
      },
      "source": [
        "def norm_ev(vec):\n",
        "  vec_new = []\n",
        "  sum=np.sum(vec)\n",
        "  for i in vec:\n",
        "    item = (i*100)/sum\n",
        "    vec_new.append(item)\n",
        "  return np.array(vec_new)\n",
        "\n"
      ],
      "execution_count": 16,
      "outputs": []
    },
    {
      "cell_type": "code",
      "metadata": {
        "id": "Crbs2jhbGNrL"
      },
      "source": [
        "def gen_sample_ev(n):\n",
        "  vector = []\n",
        "  for i in range(n):\n",
        "    vector.append(random.randint(10,30))\n",
        "  return (norm_ev(vector))\n"
      ],
      "execution_count": 19,
      "outputs": []
    },
    {
      "cell_type": "code",
      "metadata": {
        "colab": {
          "base_uri": "https://localhost:8080/"
        },
        "id": "aSnfHwKdxyk_",
        "outputId": "1dd2df9e-c687-440a-e187-76a3a796bad8"
      },
      "source": [
        "sample = gen_sample_ev(4)\n",
        "print(sample)"
      ],
      "execution_count": 23,
      "outputs": [
        {
          "output_type": "stream",
          "text": [
            "[23.75 12.5  26.25 37.5 ]\n"
          ],
          "name": "stdout"
        }
      ]
    },
    {
      "cell_type": "code",
      "metadata": {
        "id": "pCxnVArzx488"
      },
      "source": [
        "def gen_sample_evm(n, m):\n",
        "  vector=[]\n",
        "  for i in range(m):\n",
        "    vector.append(gen_sample_ev(n))\n",
        "  return vector"
      ],
      "execution_count": 25,
      "outputs": []
    },
    {
      "cell_type": "code",
      "metadata": {
        "colab": {
          "base_uri": "https://localhost:8080/"
        },
        "id": "EOYFi8bp0URt",
        "outputId": "e48535f2-e04d-41da-ea98-94cd3a7c6fb2"
      },
      "source": [
        "print(gen_sample_evm(3,5))"
      ],
      "execution_count": 26,
      "outputs": [
        {
          "output_type": "stream",
          "text": [
            "[array([25.        , 42.64705882, 32.35294118]), array([20., 40., 40.]), array([29.16666667, 45.83333333, 25.        ]), array([16.12903226, 38.70967742, 45.16129032]), array([33.33333333, 40.        , 26.66666667])]\n"
          ],
          "name": "stdout"
        }
      ]
    },
    {
      "cell_type": "code",
      "metadata": {
        "id": "-fWNS81m0ZJn"
      },
      "source": [
        ""
      ],
      "execution_count": null,
      "outputs": []
    }
  ]
}