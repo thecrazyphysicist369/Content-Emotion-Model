{
  "nbformat": 4,
  "nbformat_minor": 0,
  "metadata": {
    "colab": {
      "name": "Emotional Model.ipynb",
      "provenance": [],
      "authorship_tag": "ABX9TyMECs77YotDzq3Wi85VsYSA",
      "include_colab_link": true
    },
    "kernelspec": {
      "name": "python3",
      "display_name": "Python 3"
    }
  },
  "cells": [
    {
      "cell_type": "markdown",
      "metadata": {
        "id": "view-in-github",
        "colab_type": "text"
      },
      "source": [
        "<a href=\"https://colab.research.google.com/github/thecrazyphysicist369/Content-Emotion-Model/blob/main/code/Emotional_Model.ipynb\" target=\"_parent\"><img src=\"https://colab.research.google.com/assets/colab-badge.svg\" alt=\"Open In Colab\"/></a>"
      ]
    },
    {
      "cell_type": "code",
      "metadata": {
        "colab": {
          "base_uri": "https://localhost:8080/"
        },
        "id": "2Lu3gRGt9SKV",
        "outputId": "bde8a064-2ebe-48b5-d53f-a24c07db7cb0"
      },
      "source": [
        "# importing numpy \r\n",
        "import numpy as np \r\n",
        "  \r\n",
        "# creating a 1-D list (Horizontal) \r\n",
        "list1 = [1, 2, 3] \r\n",
        "  \r\n",
        "# creating a 1-D list (Vertical) \r\n",
        "list2 = [[10], \r\n",
        "        [20], \r\n",
        "        [30]] \r\n",
        "  \r\n",
        "# creating a vector1 \r\n",
        "# vector as row \r\n",
        "vector1 = np.array(list1) \r\n",
        "  \r\n",
        "# creating a vector 2 \r\n",
        "# vector as column \r\n",
        "vector2 = np.array(list2) \r\n",
        "  \r\n",
        "  \r\n",
        "# showing horizontal vector \r\n",
        "print(\"Horizontal Vector\") \r\n",
        "print(vector1) \r\n",
        "print(type(vector1))\r\n",
        "print(\"----------------\") \r\n",
        "  \r\n",
        "# showing vertical vector \r\n",
        "print(\"Vertical Vector\") \r\n",
        "print(vector2) "
      ],
      "execution_count": null,
      "outputs": [
        {
          "output_type": "stream",
          "text": [
            "Horizontal Vector\n",
            "[1 2 3]\n",
            "<class 'numpy.ndarray'>\n",
            "----------------\n",
            "Vertical Vector\n",
            "[[10]\n",
            " [20]\n",
            " [30]]\n"
          ],
          "name": "stdout"
        }
      ]
    },
    {
      "cell_type": "code",
      "metadata": {
        "colab": {
          "base_uri": "https://localhost:8080/"
        },
        "id": "Rz7SECIuFQmU",
        "outputId": "0ae4274c-9ade-43b0-d86d-de8e1083dc6a"
      },
      "source": [
        "print(vector1*vector2)"
      ],
      "execution_count": null,
      "outputs": [
        {
          "output_type": "stream",
          "text": [
            "[[10 20 30]\n",
            " [20 40 60]\n",
            " [30 60 90]]\n"
          ],
          "name": "stdout"
        }
      ]
    },
    {
      "cell_type": "code",
      "metadata": {
        "id": "Crbs2jhbGNrL"
      },
      "source": [
        ""
      ],
      "execution_count": null,
      "outputs": []
    }
  ]
}