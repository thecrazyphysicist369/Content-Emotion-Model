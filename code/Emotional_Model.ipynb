{
  "nbformat": 4,
  "nbformat_minor": 0,
  "metadata": {
    "colab": {
      "name": "Emotional Model.ipynb",
      "provenance": [],
      "authorship_tag": "ABX9TyNF+RTdkdCyLTitAg0GUWui",
      "include_colab_link": true
    },
    "kernelspec": {
      "name": "python3",
      "display_name": "Python 3"
    }
  },
  "cells": [
    {
      "cell_type": "markdown",
      "metadata": {
        "id": "view-in-github",
        "colab_type": "text"
      },
      "source": [
        "<a href=\"https://colab.research.google.com/github/thecrazyphysicist369/Content-Emotion-Model/blob/main/code/Emotional_Model.ipynb\" target=\"_parent\"><img src=\"https://colab.research.google.com/assets/colab-badge.svg\" alt=\"Open In Colab\"/></a>"
      ]
    },
    {
      "cell_type": "code",
      "metadata": {
        "id": "bgUqJVFmzyj_"
      },
      "source": [
        "import numpy as np\n",
        "import random"
      ],
      "execution_count": 2,
      "outputs": []
    },
    {
      "cell_type": "code",
      "metadata": {
        "id": "QrExwkbJty99"
      },
      "source": [
        "def norm_ev(vec):\n",
        "  vec_new = []\n",
        "  sum=np.sum(vec)\n",
        "  for i in vec:\n",
        "    item = (i*100)/sum\n",
        "    vec_new.append(item)\n",
        "  return np.array(vec_new)\n",
        "\n"
      ],
      "execution_count": 3,
      "outputs": []
    },
    {
      "cell_type": "code",
      "metadata": {
        "id": "Crbs2jhbGNrL"
      },
      "source": [
        "def gen_sample_ev(n):\n",
        "  vector = []\n",
        "  for i in range(n):\n",
        "    vector.append(random.randint(10,30))\n",
        "  return (norm_ev(vector))\n"
      ],
      "execution_count": 4,
      "outputs": []
    },
    {
      "cell_type": "code",
      "metadata": {
        "colab": {
          "base_uri": "https://localhost:8080/"
        },
        "id": "aSnfHwKdxyk_",
        "outputId": "78320b89-6619-44f5-f233-d83d4810b939"
      },
      "source": [
        "sample = gen_sample_ev(4)\n",
        "print(sample)"
      ],
      "execution_count": 5,
      "outputs": [
        {
          "output_type": "stream",
          "text": [
            "[14.44444444 30.         32.22222222 23.33333333]\n"
          ],
          "name": "stdout"
        }
      ]
    },
    {
      "cell_type": "code",
      "metadata": {
        "id": "pCxnVArzx488"
      },
      "source": [
        "def gen_sample_evm(n, m):\n",
        "  vector=[]\n",
        "  for i in range(m):\n",
        "    vector.append(gen_sample_ev(n))\n",
        "  return np.array(vector)"
      ],
      "execution_count": 8,
      "outputs": []
    },
    {
      "cell_type": "code",
      "metadata": {
        "colab": {
          "base_uri": "https://localhost:8080/"
        },
        "id": "EOYFi8bp0URt",
        "outputId": "70ed2243-f548-470c-f623-904facb7e180"
      },
      "source": [
        "x = gen_sample_evm(3,5)\n",
        "print(x)\n",
        "for i in x:\n",
        "  print(i)"
      ],
      "execution_count": 10,
      "outputs": [
        {
          "output_type": "stream",
          "text": [
            "[[35.29411765 37.25490196 27.45098039]\n",
            " [21.875      40.625      37.5       ]\n",
            " [38.46153846 34.61538462 26.92307692]\n",
            " [16.66666667 39.39393939 43.93939394]\n",
            " [21.05263158 45.61403509 33.33333333]]\n",
            "[35.29411765 37.25490196 27.45098039]\n",
            "[21.875 40.625 37.5  ]\n",
            "[38.46153846 34.61538462 26.92307692]\n",
            "[16.66666667 39.39393939 43.93939394]\n",
            "[21.05263158 45.61403509 33.33333333]\n"
          ],
          "name": "stdout"
        }
      ]
    },
    {
      "cell_type": "code",
      "metadata": {
        "id": "-fWNS81m0ZJn"
      },
      "source": [
        ""
      ],
      "execution_count": null,
      "outputs": []
    }
  ]
}